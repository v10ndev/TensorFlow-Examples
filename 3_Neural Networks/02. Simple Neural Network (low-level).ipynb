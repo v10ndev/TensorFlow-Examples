{
 "cells": [
  {
   "cell_type": "code",
   "execution_count": 1,
   "id": "518c8830",
   "metadata": {},
   "outputs": [],
   "source": [
    "from __future__ import absolute_import, division, print_function\n",
    "\n",
    "import tensorflow as tf\n",
    "import numpy as np"
   ]
  },
  {
   "cell_type": "code",
   "execution_count": 2,
   "id": "ea60c16a",
   "metadata": {},
   "outputs": [],
   "source": [
    "num_classes = 10\n",
    "num_features = 784\n",
    "\n",
    "learning_rate = 0.001\n",
    "training_steps = 3000\n",
    "batch_size = 256\n",
    "display_step = 100\n",
    "\n",
    "n_hidden_1 = 128\n",
    "n_hidden_2 = 256"
   ]
  },
  {
   "cell_type": "code",
   "execution_count": 3,
   "id": "0d4df234",
   "metadata": {},
   "outputs": [],
   "source": [
    "from tensorflow.keras.datasets import mnist\n",
    "(x_train, y_train), (x_test, y_test) = mnist.load_data()\n",
    "x_train, x_test = np.array(x_train, np.float32), np.array(x_test, np.float32)\n",
    "x_train, x_test = x_train.reshape([-1, num_features]), x_test.reshape([-1, num_features])\n",
    "x_train, x_test = x_train / 255., x_test / 255."
   ]
  },
  {
   "cell_type": "code",
   "execution_count": 4,
   "id": "14b16f78",
   "metadata": {},
   "outputs": [],
   "source": [
    "train_data = tf.data.Dataset.from_tensor_slices((x_train, y_train))\n",
    "train_data = train_data.repeat().shuffle(5000).batch(batch_size).prefetch(1)"
   ]
  },
  {
   "cell_type": "code",
   "execution_count": 5,
   "id": "178ad81a",
   "metadata": {},
   "outputs": [],
   "source": [
    "random_normal = tf.initializers.RandomNormal()\n",
    "\n",
    "weights = {\n",
    "    'h1': tf.Variable(random_normal([num_features, n_hidden_1])),\n",
    "    'h2': tf.Variable(random_normal([n_hidden_1, n_hidden_2])),\n",
    "    'out': tf.Variable(random_normal([n_hidden_2, num_classes]))\n",
    "}\n",
    "biases = {\n",
    "    'b1': tf.Variable(tf.zeros([n_hidden_1])),\n",
    "    'b2': tf.Variable(tf.zeros([n_hidden_2])),\n",
    "    'out': tf.Variable(tf.zeros([num_classes]))\n",
    "}"
   ]
  },
  {
   "cell_type": "code",
   "execution_count": 6,
   "id": "cb1e2601",
   "metadata": {},
   "outputs": [],
   "source": [
    "def neural_net(x):    \n",
    "    layer_1 = tf.add(tf.matmul(x, weights['h1']), biases['b1'])    \n",
    "    layer_1 = tf.nn.sigmoid(layer_1)\n",
    "        \n",
    "    layer_2 = tf.add(tf.matmul(layer_1, weights['h2']), biases['b2'])    \n",
    "    layer_2 = tf.nn.sigmoid(layer_2)\n",
    "        \n",
    "    out_layer = tf.matmul(layer_2, weights['out']) + biases['out']    \n",
    "    return tf.nn.softmax(out_layer)"
   ]
  },
  {
   "cell_type": "code",
   "execution_count": 7,
   "id": "0619d953",
   "metadata": {},
   "outputs": [],
   "source": [
    "def cross_entropy(y_pred, y_true):    \n",
    "    y_true = tf.one_hot(y_true, depth=num_classes)    \n",
    "    y_pred = tf.clip_by_value(y_pred, 1e-9, 1.)    \n",
    "    return tf.reduce_mean(-tf.reduce_sum(y_true * tf.math.log(y_pred)))\n",
    "\n",
    "def accuracy(y_pred, y_true):    \n",
    "    correct_prediction = tf.equal(tf.argmax(y_pred, 1), tf.cast(y_true, tf.int64))\n",
    "    return tf.reduce_mean(tf.cast(correct_prediction, tf.float32), axis=-1)\n",
    "\n",
    "optimizer = tf.optimizers.SGD(learning_rate)"
   ]
  },
  {
   "cell_type": "code",
   "execution_count": 8,
   "id": "36dc6b3e",
   "metadata": {},
   "outputs": [],
   "source": [
    "def run_optimization(x, y):    \n",
    "    with tf.GradientTape() as g:\n",
    "        pred = neural_net(x)\n",
    "        loss = cross_entropy(pred, y)\n",
    "            \n",
    "    trainable_variables = list(weights.values()) + list(biases.values())\n",
    "    \n",
    "    gradients = g.gradient(loss, trainable_variables)\n",
    "        \n",
    "    optimizer.apply_gradients(zip(gradients, trainable_variables))"
   ]
  },
  {
   "cell_type": "code",
   "execution_count": 9,
   "id": "89e6e946",
   "metadata": {},
   "outputs": [
    {
     "name": "stdout",
     "output_type": "stream",
     "text": [
      "step: 100, loss: 560.570862, accuracy: 0.238281\n",
      "step: 200, loss: 416.882935, accuracy: 0.558594\n",
      "step: 300, loss: 213.726135, accuracy: 0.804688\n",
      "step: 400, loss: 175.639679, accuracy: 0.761719\n",
      "step: 500, loss: 127.459435, accuracy: 0.851562\n",
      "step: 600, loss: 133.645081, accuracy: 0.847656\n",
      "step: 700, loss: 90.708176, accuracy: 0.921875\n",
      "step: 800, loss: 95.005775, accuracy: 0.906250\n",
      "step: 900, loss: 117.073639, accuracy: 0.871094\n",
      "step: 1000, loss: 103.566467, accuracy: 0.910156\n",
      "step: 1100, loss: 106.260590, accuracy: 0.890625\n",
      "step: 1200, loss: 97.942062, accuracy: 0.867188\n",
      "step: 1300, loss: 77.219910, accuracy: 0.914062\n",
      "step: 1400, loss: 72.405396, accuracy: 0.910156\n",
      "step: 1500, loss: 88.279648, accuracy: 0.886719\n",
      "step: 1600, loss: 77.894691, accuracy: 0.917969\n",
      "step: 1700, loss: 60.011425, accuracy: 0.925781\n",
      "step: 1800, loss: 82.952286, accuracy: 0.882812\n",
      "step: 1900, loss: 41.362305, accuracy: 0.953125\n",
      "step: 2000, loss: 63.232651, accuracy: 0.921875\n",
      "step: 2100, loss: 46.892235, accuracy: 0.949219\n",
      "step: 2200, loss: 67.852051, accuracy: 0.933594\n",
      "step: 2300, loss: 59.587578, accuracy: 0.937500\n",
      "step: 2400, loss: 75.327972, accuracy: 0.917969\n",
      "step: 2500, loss: 40.792091, accuracy: 0.933594\n",
      "step: 2600, loss: 53.071732, accuracy: 0.945312\n",
      "step: 2700, loss: 63.066177, accuracy: 0.925781\n",
      "step: 2800, loss: 45.812073, accuracy: 0.957031\n",
      "step: 2900, loss: 44.646637, accuracy: 0.933594\n",
      "step: 3000, loss: 46.390934, accuracy: 0.941406\n"
     ]
    }
   ],
   "source": [
    "for step, (batch_x, batch_y) in enumerate(train_data.take(training_steps), 1):    \n",
    "    run_optimization(batch_x, batch_y)\n",
    "    \n",
    "    if step % display_step == 0:\n",
    "        pred = neural_net(batch_x)\n",
    "        loss = cross_entropy(pred, batch_y)\n",
    "        acc = accuracy(pred, batch_y)\n",
    "        print(\"step: %i, loss: %f, accuracy: %f\" % (step, loss, acc))"
   ]
  }
 ],
 "metadata": {
  "kernelspec": {
   "display_name": "Python 3 (ipykernel)",
   "language": "python",
   "name": "python3"
  },
  "language_info": {
   "codemirror_mode": {
    "name": "ipython",
    "version": 3
   },
   "file_extension": ".py",
   "mimetype": "text/x-python",
   "name": "python",
   "nbconvert_exporter": "python",
   "pygments_lexer": "ipython3",
   "version": "3.9.7"
  }
 },
 "nbformat": 4,
 "nbformat_minor": 5
}
