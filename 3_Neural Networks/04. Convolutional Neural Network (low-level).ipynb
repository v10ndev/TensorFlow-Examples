{
 "cells": [
  {
   "cell_type": "code",
   "execution_count": 1,
   "id": "77efbc74",
   "metadata": {},
   "outputs": [],
   "source": [
    "from __future__ import absolute_import, division, print_function\n",
    "\n",
    "import tensorflow as tf\n",
    "import numpy as np"
   ]
  },
  {
   "cell_type": "code",
   "execution_count": 2,
   "id": "94d9b65f",
   "metadata": {},
   "outputs": [],
   "source": [
    "num_classes = 10\n",
    "\n",
    "learning_rate = 0.001\n",
    "training_steps = 200\n",
    "batch_size = 128\n",
    "display_step = 10\n",
    "\n",
    "conv1_filters = 32\n",
    "conv2_filters = 64\n",
    "fc1_units = 1024"
   ]
  },
  {
   "cell_type": "code",
   "execution_count": 3,
   "id": "a5ef19ae",
   "metadata": {},
   "outputs": [],
   "source": [
    "from tensorflow.keras.datasets import mnist\n",
    "(x_train, y_train), (x_test, y_test) = mnist.load_data()\n",
    "x_train, x_test = np.array(x_train, np.float32), np.array(x_test, np.float32)\n",
    "x_train, x_test = x_train / 255., x_test / 255."
   ]
  },
  {
   "cell_type": "code",
   "execution_count": 4,
   "id": "05083e74",
   "metadata": {},
   "outputs": [],
   "source": [
    "train_data = tf.data.Dataset.from_tensor_slices((x_train, y_train))\n",
    "train_data = train_data.repeat().shuffle(5000).batch(batch_size).prefetch(1)"
   ]
  },
  {
   "cell_type": "code",
   "execution_count": 5,
   "id": "a4d6a8cf",
   "metadata": {},
   "outputs": [],
   "source": [
    "def conv2d(x, W, b, strides=1):    \n",
    "    x = tf.nn.conv2d(x, W, strides=[1, strides, strides, 1], padding='SAME')\n",
    "    x = tf.nn.bias_add(x, b)\n",
    "    return tf.nn.relu(x)\n",
    "\n",
    "def maxpool2d(x, k=2):    \n",
    "    return tf.nn.max_pool(x, ksize=[1, k, k, 1], strides=[1, k, k, 1], padding='SAME')"
   ]
  },
  {
   "cell_type": "code",
   "execution_count": 6,
   "id": "63f8e1da",
   "metadata": {},
   "outputs": [],
   "source": [
    "random_normal = tf.initializers.RandomNormal()\n",
    "\n",
    "weights = {    \n",
    "    'wc1': tf.Variable(random_normal([5, 5, 1, conv1_filters])),    \n",
    "    'wc2': tf.Variable(random_normal([5, 5, conv1_filters, conv2_filters])),    \n",
    "    'wd1': tf.Variable(random_normal([7*7*64, fc1_units])),    \n",
    "    'out': tf.Variable(random_normal([fc1_units, num_classes]))\n",
    "}\n",
    "\n",
    "biases = {\n",
    "    'bc1': tf.Variable(tf.zeros([conv1_filters])),\n",
    "    'bc2': tf.Variable(tf.zeros([conv2_filters])),\n",
    "    'bd1': tf.Variable(tf.zeros([fc1_units])),\n",
    "    'out': tf.Variable(tf.zeros([num_classes]))\n",
    "}"
   ]
  },
  {
   "cell_type": "code",
   "execution_count": 7,
   "id": "71e0d39d",
   "metadata": {},
   "outputs": [],
   "source": [
    "def conv_net(x):\n",
    "        \n",
    "    x = tf.reshape(x, [-1, 28, 28, 1])\n",
    "    \n",
    "    conv1 = conv2d(x, weights['wc1'], biases['bc1'])\n",
    "        \n",
    "    conv1 = maxpool2d(conv1, k=2)\n",
    "    \n",
    "    conv2 = conv2d(conv1, weights['wc2'], biases['bc2'])\n",
    "        \n",
    "    conv2 = maxpool2d(conv2, k=2)\n",
    "    \n",
    "    fc1 = tf.reshape(conv2, [-1, weights['wd1'].get_shape().as_list()[0]])\n",
    "        \n",
    "    fc1 = tf.add(tf.matmul(fc1, weights['wd1']), biases['bd1'])    \n",
    "    fc1 = tf.nn.relu(fc1)\n",
    "    \n",
    "    out = tf.add(tf.matmul(fc1, weights['out']), biases['out'])    \n",
    "    return tf.nn.softmax(out)"
   ]
  },
  {
   "cell_type": "code",
   "execution_count": 8,
   "id": "59a1b592",
   "metadata": {},
   "outputs": [],
   "source": [
    "def cross_entropy(y_pred, y_true):    \n",
    "    y_true = tf.one_hot(y_true, depth=num_classes)    \n",
    "    y_pred = tf.clip_by_value(y_pred, 1e-9, 1.)    \n",
    "    return tf.reduce_mean(-tf.reduce_sum(y_true * tf.math.log(y_pred)))\n",
    "\n",
    "def accuracy(y_pred, y_true):    \n",
    "    correct_prediction = tf.equal(tf.argmax(y_pred, 1), tf.cast(y_true, tf.int64))\n",
    "    return tf.reduce_mean(tf.cast(correct_prediction, tf.float32), axis=-1)\n",
    "\n",
    "optimizer = tf.optimizers.Adam(learning_rate)"
   ]
  },
  {
   "cell_type": "code",
   "execution_count": 9,
   "id": "2526a455",
   "metadata": {},
   "outputs": [],
   "source": [
    "def run_optimization(x, y):    \n",
    "    with tf.GradientTape() as g:\n",
    "        pred = conv_net(x)\n",
    "        loss = cross_entropy(pred, y)\n",
    "            \n",
    "    trainable_variables = list(weights.values()) + list(biases.values())\n",
    "    \n",
    "    gradients = g.gradient(loss, trainable_variables)\n",
    "        \n",
    "    optimizer.apply_gradients(zip(gradients, trainable_variables))"
   ]
  },
  {
   "cell_type": "code",
   "execution_count": 10,
   "id": "2ae83c99",
   "metadata": {},
   "outputs": [
    {
     "name": "stdout",
     "output_type": "stream",
     "text": [
      "step: 10, loss: 79.027191, accuracy: 0.796875\n",
      "step: 20, loss: 38.818451, accuracy: 0.898438\n",
      "step: 30, loss: 36.494530, accuracy: 0.906250\n",
      "step: 40, loss: 22.048792, accuracy: 0.945312\n",
      "step: 50, loss: 26.919022, accuracy: 0.921875\n",
      "step: 60, loss: 13.365584, accuracy: 0.960938\n",
      "step: 70, loss: 18.899092, accuracy: 0.968750\n",
      "step: 80, loss: 10.188875, accuracy: 0.968750\n",
      "step: 90, loss: 10.616709, accuracy: 0.968750\n",
      "step: 100, loss: 12.370735, accuracy: 0.968750\n",
      "step: 110, loss: 16.033121, accuracy: 0.976562\n",
      "step: 120, loss: 11.403316, accuracy: 0.976562\n",
      "step: 130, loss: 8.424355, accuracy: 0.976562\n",
      "step: 140, loss: 10.148264, accuracy: 0.976562\n",
      "step: 150, loss: 11.201101, accuracy: 0.960938\n",
      "step: 160, loss: 6.522997, accuracy: 0.992188\n",
      "step: 170, loss: 8.217388, accuracy: 0.976562\n",
      "step: 180, loss: 6.852281, accuracy: 0.984375\n",
      "step: 190, loss: 9.211034, accuracy: 0.976562\n",
      "step: 200, loss: 5.986761, accuracy: 0.992188\n"
     ]
    }
   ],
   "source": [
    "for step, (batch_x, batch_y) in enumerate(train_data.take(training_steps), 1):    \n",
    "    run_optimization(batch_x, batch_y)\n",
    "    \n",
    "    if step % display_step == 0:\n",
    "        pred = conv_net(batch_x)\n",
    "        loss = cross_entropy(pred, batch_y)\n",
    "        acc = accuracy(pred, batch_y)\n",
    "        print(\"step: %i, loss: %f, accuracy: %f\" % (step, loss, acc))"
   ]
  }
 ],
 "metadata": {
  "kernelspec": {
   "display_name": "Python 3 (ipykernel)",
   "language": "python",
   "name": "python3"
  },
  "language_info": {
   "codemirror_mode": {
    "name": "ipython",
    "version": 3
   },
   "file_extension": ".py",
   "mimetype": "text/x-python",
   "name": "python",
   "nbconvert_exporter": "python",
   "pygments_lexer": "ipython3",
   "version": "3.9.7"
  }
 },
 "nbformat": 4,
 "nbformat_minor": 5
}
