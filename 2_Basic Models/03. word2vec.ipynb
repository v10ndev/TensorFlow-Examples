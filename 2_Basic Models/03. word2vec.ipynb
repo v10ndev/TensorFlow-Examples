{
 "cells": [
  {
   "cell_type": "code",
   "execution_count": 17,
   "id": "5d5916bb",
   "metadata": {},
   "outputs": [],
   "source": [
    "from __future__ import division, print_function, absolute_import\n",
    "\n",
    "import collections\n",
    "import os\n",
    "import random\n",
    "import urllib\n",
    "import zipfile\n",
    "\n",
    "import numpy as np\n",
    "import tensorflow as tf"
   ]
  },
  {
   "cell_type": "code",
   "execution_count": 18,
   "id": "7bfbb69d",
   "metadata": {},
   "outputs": [],
   "source": [
    "learning_rate = 0.1\n",
    "batch_size = 128\n",
    "num_steps = 3000000\n",
    "display_step = 10000\n",
    "eval_step = 200000\n",
    "\n",
    "eval_words = [b'five', b'of', b'going', b'hardware', b'american', b'britain']\n",
    "\n",
    "embedding_size = 200\n",
    "max_vocabulary_size = 50000\n",
    "min_occurrence = 10\n",
    "skip_window = 3\n",
    "num_skips = 2\n",
    "num_sampled = 64"
   ]
  },
  {
   "cell_type": "code",
   "execution_count": 19,
   "id": "e59558c1",
   "metadata": {},
   "outputs": [],
   "source": [
    "url = 'http://mattmahoney.net/dc/text8.zip'\n",
    "data_path = 'text8.zip'\n",
    "if not os.path.exists(data_path):\n",
    "    print(\"Downloading the dataset... (It may take some time)\")\n",
    "    filename, _ =  urllib.request.urlretrieve(url, data_path)\n",
    "    print(\"Done!\")\n",
    "\n",
    "with zipfile.ZipFile(data_path) as f:\n",
    "    text_words = f.read(f.namelist()[0]).lower().split()"
   ]
  },
  {
   "cell_type": "code",
   "execution_count": 20,
   "id": "9e875cc0",
   "metadata": {},
   "outputs": [
    {
     "name": "stdout",
     "output_type": "stream",
     "text": [
      "Words count: 17005207\n",
      "Unique words: 253854\n",
      "Vocabulary size: 47135\n",
      "Most common words: [('UNK', 444176), (b'the', 1061396), (b'of', 593677), (b'and', 416629), (b'one', 411764), (b'in', 372201), (b'a', 325873), (b'to', 316376), (b'zero', 264975), (b'nine', 250430)]\n"
     ]
    }
   ],
   "source": [
    "count = [('UNK', -1)]\n",
    "count.extend(collections.Counter(text_words).most_common(max_vocabulary_size - 1))\n",
    "for i in range(len(count) - 1, -1, -1):\n",
    "    if count[i][1] < min_occurrence:\n",
    "        count.pop(i)\n",
    "    else:        \n",
    "        break\n",
    "vocabulary_size = len(count)\n",
    "word2id = dict()\n",
    "for i, (word, _)in enumerate(count):\n",
    "    word2id[word] = i\n",
    "\n",
    "data = list()\n",
    "unk_count = 0\n",
    "for word in text_words:    \n",
    "    index = word2id.get(word, 0)\n",
    "    if index == 0:\n",
    "        unk_count += 1\n",
    "    data.append(index)\n",
    "count[0] = ('UNK', unk_count)\n",
    "id2word = dict(zip(word2id.values(), word2id.keys()))\n",
    "\n",
    "print(\"Words count:\", len(text_words))\n",
    "print(\"Unique words:\", len(set(text_words)))\n",
    "print(\"Vocabulary size:\", vocabulary_size)\n",
    "print(\"Most common words:\", count[:10])"
   ]
  },
  {
   "cell_type": "code",
   "execution_count": 21,
   "id": "37910104",
   "metadata": {},
   "outputs": [],
   "source": [
    "data_index = 0\n",
    "def next_batch(batch_size, num_skips, skip_window):\n",
    "    global data_index\n",
    "    assert batch_size % num_skips == 0\n",
    "    assert num_skips <= 2 * skip_window\n",
    "    batch = np.ndarray(shape=(batch_size), dtype=np.int32)\n",
    "    labels = np.ndarray(shape=(batch_size, 1), dtype=np.int32)    \n",
    "    span = 2 * skip_window + 1\n",
    "    buffer = collections.deque(maxlen=span)\n",
    "    if data_index + span > len(data):\n",
    "        data_index = 0\n",
    "    buffer.extend(data[data_index:data_index + span])\n",
    "    data_index += span\n",
    "    for i in range(batch_size // num_skips):\n",
    "        context_words = [w for w in range(span) if w != skip_window]\n",
    "        words_to_use = random.sample(context_words, num_skips)\n",
    "        for j, context_word in enumerate(words_to_use):\n",
    "            batch[i * num_skips + j] = buffer[skip_window]\n",
    "            labels[i * num_skips + j, 0] = buffer[context_word]\n",
    "        if data_index == len(data):\n",
    "            buffer.extend(data[0:span])\n",
    "            data_index = span\n",
    "        else:\n",
    "            buffer.append(data[data_index])\n",
    "            data_index += 1    \n",
    "    data_index = (data_index + len(data) - span) % len(data)\n",
    "    return batch, labels"
   ]
  },
  {
   "cell_type": "code",
   "execution_count": 22,
   "id": "2b769948",
   "metadata": {},
   "outputs": [],
   "source": [
    "with tf.device('/cpu:0'):    \n",
    "    embedding = tf.Variable(tf.random.normal([vocabulary_size, embedding_size]))    \n",
    "    nce_weights = tf.Variable(tf.random.normal([vocabulary_size, embedding_size]))\n",
    "    nce_biases = tf.Variable(tf.zeros([vocabulary_size]))\n",
    "\n",
    "def get_embedding(x):\n",
    "    with tf.device('/cpu:0'):        \n",
    "        x_embed = tf.nn.embedding_lookup(embedding, x)\n",
    "        return x_embed\n",
    "\n",
    "def nce_loss(x_embed, y):\n",
    "    with tf.device('/cpu:0'):        \n",
    "        y = tf.cast(y, tf.int64)\n",
    "        loss = tf.reduce_mean(\n",
    "            tf.nn.nce_loss(weights=nce_weights,\n",
    "                           biases=nce_biases,\n",
    "                           labels=y,\n",
    "                           inputs=x_embed,\n",
    "                           num_sampled=num_sampled,\n",
    "                           num_classes=vocabulary_size))\n",
    "        return loss\n",
    "\n",
    "def evaluate(x_embed):\n",
    "    with tf.device('/cpu:0'):        \n",
    "        x_embed = tf.cast(x_embed, tf.float32)\n",
    "        x_embed_norm = x_embed / tf.sqrt(tf.reduce_sum(tf.square(x_embed)))\n",
    "        embedding_norm = embedding / tf.sqrt(tf.reduce_sum(tf.square(embedding), 1, keepdims=True), tf.float32)\n",
    "        cosine_sim_op = tf.matmul(x_embed_norm, embedding_norm, transpose_b=True)\n",
    "        return cosine_sim_op\n",
    "\n",
    "optimizer = tf.optimizers.SGD(learning_rate)"
   ]
  },
  {
   "cell_type": "code",
   "execution_count": 23,
   "id": "aecf1afa",
   "metadata": {},
   "outputs": [],
   "source": [
    "def run_optimization(x, y):\n",
    "    with tf.device('/cpu:0'):        \n",
    "        with tf.GradientTape() as g:\n",
    "            emb = get_embedding(x)\n",
    "            loss = nce_loss(emb, y)\n",
    "        \n",
    "        gradients = g.gradient(loss, [embedding, nce_weights, nce_biases])\n",
    "        \n",
    "        optimizer.apply_gradients(zip(gradients, [embedding, nce_weights, nce_biases]))"
   ]
  },
  {
   "cell_type": "code",
   "execution_count": null,
   "id": "c74754ed",
   "metadata": {},
   "outputs": [
    {
     "name": "stdout",
     "output_type": "stream",
     "text": [
      "step: 1, loss: 508.680511\n",
      "Evaluation...\n",
      "\"b'five'\" nearest neighbors: b'nazarbayev', b'bruxelles', b'mammary', b'weighs', b'dumb', b'mosquitia', b'ghostbusters', b'ordered',\n",
      "\"b'of'\" nearest neighbors: b'hastily', b'swell', b'bsd', b'realizes', b'imbalances', b'fathered', b'fairfield', b'helm',\n",
      "\"b'going'\" nearest neighbors: b'secondly', b'beltane', b'abolishment', b'sainsbury', b'ulaanbaatar', b'psychic', b'bolshevik', b'bribed',\n",
      "\"b'hardware'\" nearest neighbors: b'reflexes', b'integer', b'resist', b'devotee', b'unwise', b'rennes', b'cushitic', b'virgil',\n",
      "\"b'american'\" nearest neighbors: b'circulating', b'hippie', b'grabbing', b'surveillance', b'gtpase', b'rectum', b'technicians', b'carnal',\n",
      "\"b'britain'\" nearest neighbors: b'hippopotamus', b'montoneros', b'ghanima', b'pretended', b'cdot', b'view', b'idempotent', b'monorails',\n",
      "step: 10000, loss: 79.185989\n",
      "step: 20000, loss: 65.593704\n",
      "step: 30000, loss: 63.613220\n",
      "step: 40000, loss: 19.248486\n",
      "step: 50000, loss: 44.309677\n",
      "step: 60000, loss: 45.506973\n",
      "step: 70000, loss: 17.424019\n",
      "step: 80000, loss: 27.485882\n",
      "step: 90000, loss: 46.264099\n",
      "step: 100000, loss: 36.491329\n",
      "step: 110000, loss: 32.394917\n",
      "step: 120000, loss: 18.332150\n",
      "step: 130000, loss: 22.568590\n",
      "step: 140000, loss: 27.991680\n",
      "step: 150000, loss: 12.031593\n",
      "step: 160000, loss: 28.794279\n"
     ]
    }
   ],
   "source": [
    "x_test = np.array([word2id[w] for w in eval_words])\n",
    "\n",
    "for step in range(1, num_steps + 1):\n",
    "    batch_x, batch_y = next_batch(batch_size, num_skips, skip_window)\n",
    "    run_optimization(batch_x, batch_y)\n",
    "    \n",
    "    if step % display_step == 0 or step == 1:\n",
    "        loss = nce_loss(get_embedding(batch_x), batch_y)\n",
    "        print(\"step: %i, loss: %f\" % (step, loss))\n",
    "        \n",
    "    if step % eval_step == 0 or step == 1:\n",
    "        print(\"Evaluation...\")\n",
    "        sim = evaluate(get_embedding(x_test)).numpy()\n",
    "        for i in range(len(eval_words)):\n",
    "            top_k = 8 \n",
    "            nearest = (-sim[i, :]).argsort()[1:top_k + 1]\n",
    "            log_str = '\"%s\" nearest neighbors:' % eval_words[i]\n",
    "            for k in range(top_k):\n",
    "                log_str = '%s %s,' % (log_str, id2word[nearest[k]])\n",
    "            print(log_str)"
   ]
  },
  {
   "cell_type": "code",
   "execution_count": null,
   "id": "d6d9b7ff",
   "metadata": {},
   "outputs": [],
   "source": []
  }
 ],
 "metadata": {
  "kernelspec": {
   "display_name": "Python 3 (ipykernel)",
   "language": "python",
   "name": "python3"
  },
  "language_info": {
   "codemirror_mode": {
    "name": "ipython",
    "version": 3
   },
   "file_extension": ".py",
   "mimetype": "text/x-python",
   "name": "python",
   "nbconvert_exporter": "python",
   "pygments_lexer": "ipython3",
   "version": "3.9.7"
  }
 },
 "nbformat": 4,
 "nbformat_minor": 5
}
