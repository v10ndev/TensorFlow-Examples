{
 "cells": [
  {
   "cell_type": "code",
   "execution_count": 1,
   "id": "4e778bb4",
   "metadata": {},
   "outputs": [],
   "source": [
    "from __future__ import absolute_import, division, print_function\n",
    "import tensorflow as tf\n",
    "import numpy as np\n",
    "rng = np.random"
   ]
  },
  {
   "cell_type": "code",
   "execution_count": 2,
   "id": "b5e8d92d",
   "metadata": {},
   "outputs": [],
   "source": [
    "learning_rate = 0.01\n",
    "training_steps = 1000\n",
    "display_step = 50"
   ]
  },
  {
   "cell_type": "code",
   "execution_count": 3,
   "id": "a6135e46",
   "metadata": {},
   "outputs": [],
   "source": [
    "X = np.array([3.3,4.4,5.5,6.71,6.93,4.168,9.779,6.182,7.59,2.167,\n",
    "              7.042,10.791,5.313,7.997,5.654,9.27,3.1])\n",
    "Y = np.array([1.7,2.76,2.09,3.19,1.694,1.573,3.366,2.596,2.53,1.221,\n",
    "              2.827,3.465,1.65,2.904,2.42,2.94,1.3])"
   ]
  },
  {
   "cell_type": "code",
   "execution_count": 4,
   "id": "5d0c95eb",
   "metadata": {},
   "outputs": [],
   "source": [
    "W = tf.Variable(rng.randn(), name='weight')\n",
    "b = tf.Variable(rng.randn(), name='bias')\n",
    "\n",
    "def linear_regression(x):\n",
    "    return W * x + b\n",
    "\n",
    "def mean_square(y_pred, y_true):\n",
    "    return tf.reduce_mean(tf.square(y_pred - y_true))\n",
    "\n",
    "optimizer = tf.optimizers.SGD(learning_rate)"
   ]
  },
  {
   "cell_type": "code",
   "execution_count": 5,
   "id": "d27262a7",
   "metadata": {},
   "outputs": [],
   "source": [
    "def run_optimization():\n",
    "    with tf.GradientTape() as g:\n",
    "        pred = linear_regression(X)\n",
    "        loss = mean_square(pred, Y)\n",
    "\n",
    "    gradients = g.gradient(loss, [W, b])\n",
    "    \n",
    "    optimizer.apply_gradients(zip(gradients, [W, b]))"
   ]
  },
  {
   "cell_type": "code",
   "execution_count": 6,
   "id": "429eeb00",
   "metadata": {},
   "outputs": [
    {
     "name": "stdout",
     "output_type": "stream",
     "text": [
      "step: 50, loss: 0.174413, W: 0.309110, b: 0.391326\n",
      "step: 100, loss: 0.169977, W: 0.302533, b: 0.437956\n",
      "step: 150, loss: 0.166499, W: 0.296709, b: 0.479249\n",
      "step: 200, loss: 0.163771, W: 0.291551, b: 0.515818\n",
      "step: 250, loss: 0.161632, W: 0.286983, b: 0.548201\n",
      "step: 300, loss: 0.159955, W: 0.282938, b: 0.576879\n",
      "step: 350, loss: 0.158639, W: 0.279356, b: 0.602275\n",
      "step: 400, loss: 0.157607, W: 0.276183, b: 0.624765\n",
      "step: 450, loss: 0.156798, W: 0.273374, b: 0.644681\n",
      "step: 500, loss: 0.156164, W: 0.270886, b: 0.662317\n",
      "step: 550, loss: 0.155666, W: 0.268683, b: 0.677936\n",
      "step: 600, loss: 0.155276, W: 0.266732, b: 0.691767\n",
      "step: 650, loss: 0.154970, W: 0.265005, b: 0.704016\n",
      "step: 700, loss: 0.154730, W: 0.263475, b: 0.714862\n",
      "step: 750, loss: 0.154542, W: 0.262120, b: 0.724468\n",
      "step: 800, loss: 0.154394, W: 0.260920, b: 0.732974\n",
      "step: 850, loss: 0.154278, W: 0.259857, b: 0.740507\n",
      "step: 900, loss: 0.154188, W: 0.258916, b: 0.747178\n",
      "step: 950, loss: 0.154116, W: 0.258083, b: 0.753086\n",
      "step: 1000, loss: 0.154061, W: 0.257345, b: 0.758317\n"
     ]
    }
   ],
   "source": [
    "for step in range(1, training_steps + 1):\n",
    "    run_optimization()\n",
    "    \n",
    "    if step % display_step == 0:\n",
    "        pred = linear_regression(X)\n",
    "        loss = mean_square(pred, Y)\n",
    "        print(\"step: %i, loss: %f, W: %f, b: %f\" % (step, loss, W.numpy(), b.numpy()))"
   ]
  },
  {
   "cell_type": "code",
   "execution_count": 7,
   "id": "95a865c7",
   "metadata": {},
   "outputs": [],
   "source": [
    "import matplotlib.pyplot as plt"
   ]
  },
  {
   "cell_type": "code",
   "execution_count": 8,
   "id": "6b0a7e81",
   "metadata": {},
   "outputs": [
    {
     "data": {
      "image/png": "[encoded data removed]",
      "text/plain": [
       "<Figure size 432x288 with 1 Axes>"
      ]
     },
     "metadata": {
      "needs_background": "light"
     },
     "output_type": "display_data"
    }
   ],
   "source": [
    "plt.plot(X, Y, 'ro', label='Original data')\n",
    "plt.plot(X, np.array(W * X + b), label='Fitted line')\n",
    "plt.legend()\n",
    "plt.show()"
   ]
  }
 ],
 "metadata": {
  "kernelspec": {
   "display_name": "Python 3 (ipykernel)",
   "language": "python",
   "name": "python3"
  },
  "language_info": {
   "codemirror_mode": {
    "name": "ipython",
    "version": 3
   },
   "file_extension": ".py",
   "mimetype": "text/x-python",
   "name": "python",
   "nbconvert_exporter": "python",
   "pygments_lexer": "ipython3",
   "version": "3.9.7"
  }
 },
 "nbformat": 4,
 "nbformat_minor": 5
}
